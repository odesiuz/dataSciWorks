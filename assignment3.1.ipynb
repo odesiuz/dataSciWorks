{
    "nbformat_minor": 1, 
    "cells": [
        {
            "source": "# Assignment 3\n\nWelcome to Assignment 3. This will be even more fun. Now we will calculate statistical measures on the test data you have created.\n\nYOU ARE NOT ALLOWED TO USE ANY OTHER 3RD PARTY LIBRARIES LIKE PANDAS. PLEASE ONLY MODIFY CONTENT INSIDE THE FUNCTION SKELETONS\nPlease read why: https://www.coursera.org/learn/exploring-visualizing-iot-data/discussions/weeks/3/threads/skjCbNgeEeapeQ5W6suLkA\n. Just make sure you hit the play button on each cell from top to down. There are seven functions you have to implement. Please also make sure than on each change on a function you hit the play button again on the corresponding cell to make it available to the rest of this notebook.\nPlease also make sure to only implement the function bodies and DON'T add any additional code outside functions since this might confuse the autograder.\n\nSo the function below is used to make it easy for you to create a data frame from a cloudant data frame using the so called \"DataSource\" which is some sort of a plugin which allows ApacheSpark to use different data sources.\n", 
            "cell_type": "markdown", 
            "metadata": {}
        }, 
        {
            "execution_count": 1, 
            "cell_type": "code", 
            "metadata": {}, 
            "outputs": [], 
            "source": "#Please don't modify this function\ndef readDataFrameFromCloudant(database):\n    cloudantdata=spark.read.load(database, \"org.apache.bahir.cloudant\")\n\n    cloudantdata.createOrReplaceTempView(\"washing\")\n    spark.sql(\"SELECT * from washing\").show()\n    return cloudantdata"
        }, 
        {
            "source": "All functions can be implemented using DataFrames, ApacheSparkSQL or RDDs. We are only interested in the result. You are given the reference to the data frame in the \"df\" parameter and in case you want to use SQL just use the \"spark\" parameter which is a reference to the global SparkSession object. Finally if you want to use RDDs just use \"df.rdd\" for obtaining a reference to the underlying RDD object. \n\nLet's start with the first function. Please calculate the minimal temperature for the test data set you have created. We've provided a little skeleton for you in case you want to use SQL. You can use this skeleton for all subsequent functions. Everything can be implemented using SQL only if you like.", 
            "cell_type": "markdown", 
            "metadata": {}
        }, 
        {
            "execution_count": 2, 
            "cell_type": "code", 
            "metadata": {}, 
            "outputs": [], 
            "source": "def minTemperature(df,spark):\n    return spark.sql(\"SELECT min(temperature) as mintemp from washing\").first().mintemp"
        }, 
        {
            "source": "Please now do the same for the mean of the temperature", 
            "cell_type": "markdown", 
            "metadata": {}
        }, 
        {
            "execution_count": 3, 
            "cell_type": "code", 
            "metadata": {}, 
            "outputs": [], 
            "source": "def meanTemperature(df,spark):\n    return spark.sql(\"SELECT avg(temperature) as avg_temperature from washing WHERE temperature is not null\").first().avg_temperature"
        }, 
        {
            "source": "Please now do the same for the maximum of the temperature", 
            "cell_type": "markdown", 
            "metadata": {}
        }, 
        {
            "execution_count": 4, 
            "cell_type": "code", 
            "metadata": {}, 
            "outputs": [], 
            "source": "def maxTemperature(df,spark):\n    return spark.sql(\"SELECT max(temperature) as maxtemp from washing\").first().maxtemp"
        }, 
        {
            "source": "Please now do the same for the standard deviation of the temperature", 
            "cell_type": "markdown", 
            "metadata": {}
        }, 
        {
            "execution_count": 99, 
            "cell_type": "code", 
            "metadata": {}, 
            "outputs": [], 
            "source": "def sdTemperature(df,spark):\n    tempData = spark.sql(\"SELECT temperature FROM washing WHERE temperature is not null\").rdd.map(list).flatMap(lambda x : x)\n    return tempData.stdev()"
        }, 
        {
            "source": "Please now do the same for the skew of the temperature. Since the SQL statement for this is a bit more complicated we've provided a skeleton for you. You have to insert custom code at four position in order to make the function work. Alternatively you can also remove everything and implement if on your own. Note that we are making use of two previously defined functions, so please make sure they are correct. Also note that we are making use of python's string formatting capabilitis where the results of the two function calls to \"meanTemperature\" and \"sdTemperature\" are inserted at the \"%s\" symbols in the SQL string.", 
            "cell_type": "markdown", 
            "metadata": {}
        }, 
        {
            "execution_count": 124, 
            "cell_type": "code", 
            "metadata": {}, 
            "outputs": [], 
            "source": "def skewTemperature(df,spark):\n    tempData = spark.sql(\"SELECT temperature FROM washing WHERE temperature is not null\").rdd.map(list).flatMap(lambda x : x)\n    numTemp = float(tempData.count())\n    meanTemp = meanTemperature(df, spark)\n    stdevTemp = sdTemperature(df, spark)\n    skewTemp = tempData.map(lambda x : pow(x - meanTemp, 3) / pow(stdevTemp, 3)).sum() / numTemp\n    return skewTemp"
        }, 
        {
            "source": "Kurtosis is the 4th statistical moment, so if you are smart you can make use of the code for skew which is the 3rd statistical moment. Actually only two things are different.", 
            "cell_type": "markdown", 
            "metadata": {}
        }, 
        {
            "execution_count": 126, 
            "cell_type": "code", 
            "metadata": {}, 
            "outputs": [], 
            "source": "def kurtosisTemperature(df,spark): \n    tempData = spark.sql(\"SELECT temperature FROM washing WHERE temperature is not null\").rdd.map(list).flatMap(lambda x : x)\n    numTemp = float(tempData.count())\n    meanTemp = meanTemperature(df, spark)\n    stdTemp = sdTemperature(df, spark)\n    kurtTemp = tempData.map(lambda x : pow(x - meanTemp, 4) / pow(stdTemp, 4)).sum() / numTemp\n    return kurtTemp"
        }, 
        {
            "source": "Just a hint. This can be solved easily using SQL as well, but as shown in the lecture also using RDDs.", 
            "cell_type": "markdown", 
            "metadata": {}
        }, 
        {
            "execution_count": 127, 
            "cell_type": "code", 
            "metadata": {}, 
            "outputs": [], 
            "source": "def correlationTemperatureHardness(df,spark):\n    return df.corr(\"temperature\", \"hardness\")"
        }, 
        {
            "source": "### PLEASE DON'T REMOVE THIS BLOCK - THE FOLLOWING CODE IS NOT GRADED\n#axx\n### PLEASE DON'T REMOVE THIS BLOCK - THE FOLLOWING CODE IS NOT GRADED", 
            "cell_type": "markdown", 
            "metadata": {}
        }, 
        {
            "source": "Now it is time to connect to the cloudant database. Please have a look at the Video \"Overview of end-to-end scenario\" of Week 2 starting from 6:40 in order to learn how to obtain the credentials for the database. Please paste this credentials as strings into the below code\n\n### TODO Please provide your Cloudant credentials here", 
            "cell_type": "markdown", 
            "metadata": {}
        }, 
        {
            "execution_count": 9, 
            "cell_type": "code", 
            "metadata": {}, 
            "outputs": [], 
            "source": "hostname = \"1783f19f-3912-4211-893e-b341edeeffd4-bluemix.cloudant.com\"\nuser = \"1783f19f-3912-4211-893e-b341edeeffd4-bluemix\"\npw = \"1f30ff869624227b320f148c002daacb75c8ff001ec4ef2f3947cb1de53624a2\"\ndatabase = \"washing\" #as long as you didn't change this in the NodeRED flow the database name stays the same"
        }, 
        {
            "execution_count": 10, 
            "cell_type": "code", 
            "metadata": {}, 
            "outputs": [
                {
                    "output_type": "stream", 
                    "name": "stdout", 
                    "text": "+--------------------+--------------------+------+--------+----------+---------+--------+-----+-----------+-------------+-------+\n|                 _id|                _rev| count|flowrate|fluidlevel|frequency|hardness|speed|temperature|           ts|voltage|\n+--------------------+--------------------+------+--------+----------+---------+--------+-----+-----------+-------------+-------+\n|016f908726846e142...|1-b54c0604b68175d...|129627|      11|acceptable|     null|      70| null|         84|1534638608182|   null|\n|016f908726846e142...|1-80b4337ac969602...|129637|      11|acceptable|     null|      70| null|         83|1534638618235|   null|\n|016f908726846e142...|1-1d5ae4523fe5f32...|129640|      11|acceptable|     null|      79| null|         81|1534638621245|   null|\n|016f908726846e142...|1-b40c8ffe9d1c653...| 26128|    null|      null|     null|    null| 1046|       null|1534638642224|   null|\n|016f908726846e142...|1-299444d07544b7e...|129664|      11|acceptable|     null|      80| null|         80|1534638645424|   null|\n|016f908726846e142...|1-d09878722d2b428...|129666|      11|acceptable|     null|      70| null|        100|1534638647431|   null|\n|016f908726846e142...|1-ed735c870056173...| 43497|    null|      null|       67|    null| null|       null|1534638656174|    244|\n|016f908726846e142...|1-692968c34107799...| 26131|    null|      null|     null|    null| 1062|       null|1534638657400|   null|\n|016f908726846e142...|1-325c7f2c626fbe7...|129708|      11|acceptable|     null|      73| null|         81|1534638690158|   null|\n|016f908726846e142...|1-ce5e16bba4713ab...| 43515|    null|      null|       67|    null| null|       null|1534638710295|    223|\n|016f908726846e142...|1-607f287730b67be...|129733|      11|acceptable|     null|      71| null|         96|1534638715414|   null|\n|016f908726846e142...|1-2f5133f69e17eb3...|129737|      11|acceptable|     null|      74| null|         91|1534638719428|   null|\n|016f908726846e142...|1-8c70c8ab5ff2576...|129741|      11|acceptable|     null|      74| null|         87|1534638723469|   null|\n|016f908726846e142...|1-02dce5ac6c2d9c4...|129742|      11|acceptable|     null|      70| null|         89|1534638724471|   null|\n|016f908726846e142...|1-20c4d46654a18fa...|129743|      11|acceptable|     null|      73| null|         84|1534638725478|   null|\n|016f908726846e142...|1-06b84acabeeb3b7...|129752|      11|acceptable|     null|      76| null|         92|1534638734562|   null|\n|016f908726846e142...|1-a94bd7ab4554bba...|129753|      11|acceptable|     null|      74| null|         81|1534638735567|   null|\n|016f908726846e142...|1-435a91ce6e3190c...|129756|      11|acceptable|     null|      72| null|        100|1534638738603|   null|\n|016f908726846e142...|1-b451684423c0b27...|129759|      11|acceptable|     null|      73| null|         92|1534638741608|   null|\n|016f908726846e142...|1-ec0f17ec0cd5f31...| 43526|    null|      null|       64|    null| null|       null|1534638743374|    223|\n+--------------------+--------------------+------+--------+----------+---------+--------+-----+-----------+-------------+-------+\nonly showing top 20 rows\n\n"
                }
            ], 
            "source": "spark = SparkSession\\\n    .builder\\\n    .appName(\"Cloudant Spark SQL Example in Python using temp tables\")\\\n    .config(\"cloudant.host\",hostname)\\\n    .config(\"cloudant.username\", user)\\\n    .config(\"cloudant.password\",pw)\\\n    .getOrCreate()\ncloudantdata=readDataFrameFromCloudant(database)"
        }, 
        {
            "execution_count": 11, 
            "cell_type": "code", 
            "metadata": {}, 
            "outputs": [
                {
                    "execution_count": 11, 
                    "metadata": {}, 
                    "data": {
                        "text/plain": "80"
                    }, 
                    "output_type": "execute_result"
                }
            ], 
            "source": "minTemperature(cloudantdata,spark)"
        }, 
        {
            "execution_count": 12, 
            "cell_type": "code", 
            "metadata": {}, 
            "outputs": [
                {
                    "execution_count": 12, 
                    "metadata": {}, 
                    "data": {
                        "text/plain": "89.99873002761932"
                    }, 
                    "output_type": "execute_result"
                }
            ], 
            "source": "meanTemperature(cloudantdata,spark)"
        }, 
        {
            "execution_count": 13, 
            "cell_type": "code", 
            "metadata": {}, 
            "outputs": [
                {
                    "execution_count": 13, 
                    "metadata": {}, 
                    "data": {
                        "text/plain": "100"
                    }, 
                    "output_type": "execute_result"
                }
            ], 
            "source": "maxTemperature(cloudantdata,spark)"
        }, 
        {
            "execution_count": 100, 
            "cell_type": "code", 
            "metadata": {}, 
            "outputs": [
                {
                    "execution_count": 100, 
                    "metadata": {}, 
                    "data": {
                        "text/plain": "6.0440121437560963"
                    }, 
                    "output_type": "execute_result"
                }
            ], 
            "source": "sdTemperature(cloudantdata,spark)"
        }, 
        {
            "execution_count": 125, 
            "cell_type": "code", 
            "metadata": {}, 
            "outputs": [
                {
                    "execution_count": 125, 
                    "metadata": {}, 
                    "data": {
                        "text/plain": "-0.0013215271960618198"
                    }, 
                    "output_type": "execute_result"
                }
            ], 
            "source": "skewTemperature(cloudantdata,spark)"
        }, 
        {
            "execution_count": 128, 
            "cell_type": "code", 
            "metadata": {}, 
            "outputs": [
                {
                    "execution_count": 128, 
                    "metadata": {}, 
                    "data": {
                        "text/plain": "1.798537149542315"
                    }, 
                    "output_type": "execute_result"
                }
            ], 
            "source": "kurtosisTemperature(cloudantdata,spark)"
        }, 
        {
            "execution_count": 129, 
            "cell_type": "code", 
            "metadata": {}, 
            "outputs": [
                {
                    "execution_count": 129, 
                    "metadata": {}, 
                    "data": {
                        "text/plain": "0.9198633186598345"
                    }, 
                    "output_type": "execute_result"
                }
            ], 
            "source": "correlationTemperatureHardness(cloudantdata,spark)"
        }, 
        {
            "source": "Congratulations, you are done, please download this notebook as python file using the export function and submit is to the gader using the filename \"assignment3.1.py\"", 
            "cell_type": "markdown", 
            "metadata": {}
        }
    ], 
    "metadata": {
        "kernelspec": {
            "display_name": "Python 2 with Spark 2.1", 
            "name": "python2-spark21", 
            "language": "python"
        }, 
        "language_info": {
            "mimetype": "text/x-python", 
            "nbconvert_exporter": "python", 
            "version": "2.7.14", 
            "name": "python", 
            "file_extension": ".py", 
            "pygments_lexer": "ipython2", 
            "codemirror_mode": {
                "version": 2, 
                "name": "ipython"
            }
        }
    }, 
    "nbformat": 4
}